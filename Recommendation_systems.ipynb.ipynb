{
 "cells": [
  {
   "cell_type": "markdown",
   "metadata": {},
   "source": [
    "# 🎬 MovieLens Recommendation System\n",
    "\n",
    "## **📌 Business Understanding**\n",
    "\n",
    "### **Context**\n",
    "\n",
    "In the modern entertainment industry, streaming platforms and digital content providers face a significant challenge—ensuring users find content that aligns with their preferences. A robust **movie recommendation system** enhances user experience, increases engagement, and drives business growth.\n",
    "\n",
    "## **📌 Problem Statement**\n",
    "\n",
    "Users struggle to find relevant movies from vast catalogs, often leading to dissatisfaction and disengagement. A data-driven recommendation system is needed to personalize movie suggestions, improving user satisfaction and retention.\n",
    "\n",
    "## **📌 Objectives**\n",
    "\n",
    "1. **Develop a movie recommendation system** using advanced machine learning techniques.\n",
    "2. **Implement multiple recommendation approaches**, including:\n",
    "   - **Collaborative Filtering (SVD)** to analyze user-movie interactions.\n",
    "   - **Content-Based Filtering (TF-IDF & Cosine Similarity)** to recommend movies based on their genre.\n",
    "   - **Clustering (K-Means)** for user segmentation and diversity in recommendations.\n",
    "3. **Evaluate model performance** using RMSE, Silhouette Score, and Cosine Similarity metrics.\n",
    "4. **Deploy the system** as an interactive **Streamlit web app** for real-time recommendations.\n",
    "\n"
   ]
  },
  {
   "cell_type": "code",
   "execution_count": 1,
   "metadata": {},
   "outputs": [],
   "source": [
    "import pandas as pd\n",
    "import numpy as np\n",
    "import matplotlib.pyplot as plt\n",
    "import seaborn as sns\n",
    "import shap\n",
    "import streamlit as st\n",
    "from sklearn.preprocessing import StandardScaler, OneHotEncoder\n",
    "from sklearn.pipeline import Pipeline\n",
    "from sklearn.metrics.pairwise import cosine_similarity\n",
    "from sklearn.decomposition import TruncatedSVD\n",
    "from surprise import SVD, Dataset, Reader\n",
    "from surprise.model_selection import cross_validate, GridSearchCV\n",
    "from sklearn.cluster import KMeans\n",
    "from sklearn.metrics import silhouette_score\n",
    "from sklearn.feature_extraction.text import TfidfVectorizer\n",
    "import warnings\n",
    "warnings.filterwarnings(\"ignore\")\n"
   ]
  },
  {
   "cell_type": "code",
   "execution_count": 2,
   "metadata": {},
   "outputs": [],
   "source": [
    "# Load datasets\n",
    "ratings_path = \"ratings.csv\"\n",
    "movies_path = \"movies.csv\"\n",
    "tags_path = \"tags.csv\"\n",
    "\n",
    "ratings = pd.read_csv(ratings_path)\n",
    "movies = pd.read_csv(movies_path)\n",
    "tags = pd.read_csv(tags_path)\n"
   ]
  },
  {
   "cell_type": "code",
   "execution_count": 3,
   "metadata": {},
   "outputs": [
    {
     "name": "stdout",
     "output_type": "stream",
     "text": [
      "Ratings Dataset:\n",
      "   userId  movieId  rating  timestamp\n",
      "0       1        1     4.0  964982703\n",
      "1       1        3     4.0  964981247\n",
      "2       1        6     4.0  964982224\n",
      "3       1       47     5.0  964983815\n",
      "4       1       50     5.0  964982931\n",
      "\n",
      "Movies Dataset:\n",
      "   movieId                               title  \\\n",
      "0        1                    Toy Story (1995)   \n",
      "1        2                      Jumanji (1995)   \n",
      "2        3             Grumpier Old Men (1995)   \n",
      "3        4            Waiting to Exhale (1995)   \n",
      "4        5  Father of the Bride Part II (1995)   \n",
      "\n",
      "                                        genres  \n",
      "0  Adventure|Animation|Children|Comedy|Fantasy  \n",
      "1                   Adventure|Children|Fantasy  \n",
      "2                               Comedy|Romance  \n",
      "3                         Comedy|Drama|Romance  \n",
      "4                                       Comedy  \n",
      "\n",
      "Tags Dataset:\n",
      "   userId  movieId              tag   timestamp\n",
      "0       2    60756            funny  1445714994\n",
      "1       2    60756  Highly quotable  1445714996\n",
      "2       2    60756     will ferrell  1445714992\n",
      "3       2    89774     Boxing story  1445715207\n",
      "4       2    89774              MMA  1445715200\n"
     ]
    }
   ],
   "source": [
    "# Data Exploration\n",
    "print(\"Ratings Dataset:\")\n",
    "print(ratings.head())\n",
    "print(\"\\nMovies Dataset:\")\n",
    "print(movies.head())\n",
    "print(\"\\nTags Dataset:\")\n",
    "print(tags.head())"
   ]
  },
  {
   "cell_type": "code",
   "execution_count": 4,
   "metadata": {},
   "outputs": [],
   "source": [
    "# Data Preprocessing Pipeline\n",
    "def preprocess_movies(movies_df):\n",
    "    movies_df['genres'] = movies_df['genres'].str.replace('|', ' ')\n",
    "    vectorizer = TfidfVectorizer(stop_words='english')\n",
    "    genre_matrix = vectorizer.fit_transform(movies_df['genres'])\n",
    "    return genre_matrix\n",
    "\n",
    "movies_tfidf_matrix = preprocess_movies(movies)"
   ]
  },
  {
   "cell_type": "code",
   "execution_count": 5,
   "metadata": {},
   "outputs": [
    {
     "name": "stdout",
     "output_type": "stream",
     "text": [
      "Evaluating RMSE, MAE of algorithm SVD on 5 split(s).\n",
      "\n",
      "                  Fold 1  Fold 2  Fold 3  Fold 4  Fold 5  Mean    Std     \n",
      "RMSE (testset)    0.8527  0.8727  0.8604  0.8737  0.8725  0.8664  0.0084  \n",
      "MAE (testset)     0.6570  0.6712  0.6620  0.6727  0.6675  0.6661  0.0058  \n",
      "Fit time          2.73    2.68    2.60    2.68    2.75    2.69    0.05    \n",
      "Test time         0.22    0.22    0.35    0.22    0.21    0.24    0.05    \n"
     ]
    },
    {
     "data": {
      "text/plain": [
       "{'test_rmse': array([0.85267445, 0.87269533, 0.86039023, 0.87370886, 0.87251337]),\n",
       " 'test_mae': array([0.65699117, 0.67118765, 0.66202872, 0.67265543, 0.66754077]),\n",
       " 'fit_time': (2.732849359512329,\n",
       "  2.682965040206909,\n",
       "  2.5959954261779785,\n",
       "  2.6795406341552734,\n",
       "  2.746579885482788),\n",
       " 'test_time': (0.215775728225708,\n",
       "  0.21809101104736328,\n",
       "  0.34705042839050293,\n",
       "  0.2198195457458496,\n",
       "  0.21186399459838867)}"
      ]
     },
     "execution_count": 5,
     "metadata": {},
     "output_type": "execute_result"
    }
   ],
   "source": [
    "# Collaborative Filtering Pipeline\n",
    "reader = Reader(rating_scale=(0.5, 5.0))\n",
    "data = Dataset.load_from_df(ratings[['userId', 'movieId', 'rating']], reader)\n",
    "param_grid = {'n_factors': [50, 100, 150], 'n_epochs': [20, 30], 'lr_all': [0.002, 0.005], 'reg_all': [0.02, 0.1]}\n",
    "gs = GridSearchCV(SVD, param_grid, measures=['rmse', 'mae'], cv=5)\n",
    "gs.fit(data)\n",
    "best_svd = gs.best_estimator['rmse']\n",
    "cross_validate(best_svd, data, cv=5, verbose=True)"
   ]
  },
  {
   "cell_type": "code",
   "execution_count": 8,
   "metadata": {},
   "outputs": [
    {
     "name": "stderr",
     "output_type": "stream",
     "text": [
      "ExactExplainer explainer: 100837it [19:18, 87.07it/s]                            \n"
     ]
    },
    {
     "data": {
      "image/png": "[encoded data removed]",
      "text/plain": [
       "<Figure size 800x230 with 2 Axes>"
      ]
     },
     "metadata": {},
     "output_type": "display_data"
    }
   ],
   "source": [
    "import shap\n",
    "import numpy as np\n",
    "import pandas as pd\n",
    "\n",
    "# Extract ratings into a structured format\n",
    "ratings_list = list(trainset.all_ratings())  # Convert iterator to list\n",
    "ratings_array = np.array(ratings_list)  # Convert list to NumPy array\n",
    "\n",
    "# Ensure ratings_array has the expected shape (n_samples, 3)\n",
    "if ratings_array.ndim == 2 and ratings_array.shape[1] == 3:\n",
    "    # Extract user and item IDs as input features\n",
    "    X = ratings_array[:, :-1]  # Extract (user, item) pairs\n",
    "    y = ratings_array[:, -1]   # Extract ratings\n",
    "\n",
    "    # Define a prediction function that SHAP can interpret\n",
    "    def svd_predict(X):\n",
    "        return np.array([best_svd.predict(int(uid), int(iid)).est for uid, iid in X])\n",
    "\n",
    "    # Create the SHAP explainer\n",
    "    explainer = shap.Explainer(svd_predict, X)\n",
    "\n",
    "    # Compute SHAP values\n",
    "    shap_values = explainer(X)\n",
    "\n",
    "    # Plot summary\n",
    "    shap.summary_plot(shap_values)\n",
    "else:\n",
    "    print(\"Error: ratings_array does not have the expected shape (n, 3).\")\n"
   ]
  },
  {
   "cell_type": "code",
   "execution_count": 9,
   "metadata": {},
   "outputs": [],
   "source": [
    "# K-Means Clustering Pipeline\n",
    "def cluster_movies(movies_df, num_clusters=5):\n",
    "    kmeans = KMeans(n_clusters=num_clusters, random_state=42)\n",
    "    cluster_labels = kmeans.fit_predict(movies_tfidf_matrix)\n",
    "    movies_df['Cluster'] = cluster_labels\n",
    "    return movies_df\n",
    "\n",
    "movies = cluster_movies(movies)\n"
   ]
  },
  {
   "cell_type": "code",
   "execution_count": 10,
   "metadata": {},
   "outputs": [
    {
     "name": "stdout",
     "output_type": "stream",
     "text": [
      "Silhouette Score for 5 clusters: 0.24208972244252558\n"
     ]
    }
   ],
   "source": [
    "# Compute Silhouette Score\n",
    "sil_score = silhouette_score(movies_tfidf_matrix, movies['Cluster'])\n",
    "print(f\"Silhouette Score for {5} clusters: {sil_score}\")"
   ]
  },
  {
   "cell_type": "code",
   "execution_count": 11,
   "metadata": {},
   "outputs": [],
   "source": [
    "# Content-Based Filtering Pipeline\n",
    "def recommend_movies(movie_title, movies_df, similarity_matrix, top_n=5):\n",
    "    idx = movies_df[movies_df['title'] == movie_title].index[0]\n",
    "    scores = list(enumerate(similarity_matrix[idx]))\n",
    "    scores = sorted(scores, key=lambda x: x[1], reverse=True)\n",
    "    movie_indices = [i[0] for i in scores[1:top_n+1]]\n",
    "    return movies_df.iloc[movie_indices][['title', 'genres']]\n",
    "\n",
    "similarity_matrix = cosine_similarity(movies_tfidf_matrix, movies_tfidf_matrix)"
   ]
  },
  {
   "cell_type": "code",
   "execution_count": null,
   "metadata": {},
   "outputs": [],
   "source": [
    "\n",
    "\n",
    "# Model Performance Comparison\n",
    "performance_summary = {\n",
    "    \"Collaborative Filtering (SVD)\": cross_validate(best_svd, data, cv=5),\n",
    "    \"Content-Based Filtering (Cosine Similarity)\": np.mean(similarity_matrix),\n",
    "    \"Clustering (Silhouette Score)\": sil_score\n",
    "}\n",
    "print(\"Model Performance Summary:\")\n",
    "for model, score in performance_summary.items():\n",
    "    print(f\"{model}: {score}\")\n",
    "\n",
    "# Commit Message: \"Added final model performance comparison section.\"\n",
    "\n",
    "# Deployment with Streamlit\n",
    "st.title(\"🎬 Movie Recommendation System\")\n",
    "user_input = st.text_input(\"Enter a movie title:\")\n",
    "if user_input:\n",
    "    recommendations = recommend_movies(user_input, movies, similarity_matrix)\n",
    "    st.write(\"Top Recommendations:\")\n",
    "    st.write(recommendations)\n",
    "\n",
    "# Commit Message: \"Integrated Streamlit app for interactive recommendations.\""
   ]
  }
 ],
 "metadata": {
  "kernelspec": {
   "display_name": "base",
   "language": "python",
   "name": "python3"
  },
  "language_info": {
   "codemirror_mode": {
    "name": "ipython",
    "version": 3
   },
   "file_extension": ".py",
   "mimetype": "text/x-python",
   "name": "python",
   "nbconvert_exporter": "python",
   "pygments_lexer": "ipython3",
   "version": "3.12.3"
  }
 },
 "nbformat": 4,
 "nbformat_minor": 2
}
